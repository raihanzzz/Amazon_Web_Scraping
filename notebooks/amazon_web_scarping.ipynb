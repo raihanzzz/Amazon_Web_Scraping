{
 "cells": [
  {
   "cell_type": "code",
   "execution_count": 54,
   "id": "25fb558d",
   "metadata": {},
   "outputs": [],
   "source": [
    "import pandas as pd"
   ]
  },
  {
   "cell_type": "code",
   "execution_count": 55,
   "id": "ec78865d",
   "metadata": {},
   "outputs": [],
   "source": [
    "from bs4 import BeautifulSoup\n",
    "import requests\n",
    "import smtplib\n",
    "import datetime\n",
    "import time"
   ]
  },
  {
   "cell_type": "code",
   "execution_count": null,
   "id": "86d5963a",
   "metadata": {},
   "outputs": [
    {
     "name": "stdout",
     "output_type": "stream",
     "text": [
      "\n",
      "                  Got Data Funny Business Data Analyst T-Shirt\n",
      "                 \n"
     ]
    }
   ],
   "source": [
    "with open(r\"D:\\Pandas (Jupyter)\\Amazon_Web_Scraping\\amazon_tshirt.html\", encoding='utf-8') as file:\n",
    "    html_code = file.read()\n",
    "    \n",
    "soup1 =  BeautifulSoup(html_code, \"html.parser\")\n",
    "\n",
    "soup2 = BeautifulSoup(soup1.prettify(),\"html.parser\")\n",
    "\n",
    "title = soup2.find(id='productTitle').get_text()\n",
    "\n",
    "print(title)"
   ]
  },
  {
   "cell_type": "code",
   "execution_count": 57,
   "id": "667dd643",
   "metadata": {},
   "outputs": [
    {
     "name": "stdout",
     "output_type": "stream",
     "text": [
      "\n",
      "                  Got Data Funny Business Data Analyst T-Shirt\n",
      "                 \n"
     ]
    }
   ],
   "source": [
    "title = soup2.find(id='productTitle').get_text()\n",
    "\n",
    "print(title)"
   ]
  },
  {
   "cell_type": "markdown",
   "id": "6e084f54",
   "metadata": {},
   "source": [
    "<span id=\"productTitle\" class=\"a-size-large product-title-word-break\">        Got Data Funny Business Data Analyst T-Shirt       </span>"
   ]
  },
  {
   "cell_type": "code",
   "execution_count": 58,
   "id": "c403735d",
   "metadata": {},
   "outputs": [
    {
     "name": "stdout",
     "output_type": "stream",
     "text": [
      "\n",
      "                  Got Data Funny Business Data Analyst T-Shirt\n",
      "                 \n"
     ]
    }
   ],
   "source": [
    "title_anotherway = soup2.find(\"span\", class_=\"a-size-large product-title-word-break\").get_text()\n",
    "print(title_anotherway)"
   ]
  },
  {
   "cell_type": "code",
   "execution_count": 59,
   "id": "144e07a3",
   "metadata": {},
   "outputs": [
    {
     "name": "stdout",
     "output_type": "stream",
     "text": [
      "Made with chemicals safer for human health and the environment.\n"
     ]
    }
   ],
   "source": [
    "material = soup2.find_all(\"span\", class_=\"a-color-base\")[2].get_text() #Too many same name so printing something different\n",
    "print(material.strip())                                                #next line is the proper way more detailed to get the exact value"
   ]
  },
  {
   "cell_type": "code",
   "execution_count": 60,
   "id": "7e304600",
   "metadata": {},
   "outputs": [
    {
     "name": "stdout",
     "output_type": "stream",
     "text": [
      "19\n"
     ]
    }
   ],
   "source": [
    "elements = soup2.find_all(\"span\", class_=\"a-color-base\")\n",
    "print(len(elements))   #if len > 1 then then find_all otherwise find"
   ]
  },
  {
   "cell_type": "code",
   "execution_count": 61,
   "id": "ec10675c",
   "metadata": {},
   "outputs": [],
   "source": [
    "material_exact = soup2.find_all(\"span\", class_=\"a-color-base\")\n",
    "#print(material_exact)"
   ]
  },
  {
   "cell_type": "code",
   "execution_count": 62,
   "id": "df0a24d4",
   "metadata": {},
   "outputs": [
    {
     "name": "stdout",
     "output_type": "stream",
     "text": [
      "Solid colors: 100% Cotton; Heather Grey: 90% Cotton, 10% Polyester; Dark Heather and Heather Blue: 50% Cotton, 50% Polyester; OR Dark Heather, Heather Blue and All Other Heathers: 65% Polyester, 35% Cotton; Girls' Heathers: 60% Cotton, 40% Polyester\n"
     ]
    }
   ],
   "source": [
    "material = next(main.get_text(strip=True)\n",
    "            for main in material_exact \n",
    "            if \"Solid colors:\" in main.get_text())\n",
    "print(material)"
   ]
  },
  {
   "cell_type": "code",
   "execution_count": 63,
   "id": "0e9c6ecc",
   "metadata": {},
   "outputs": [
    {
     "data": {
      "text/plain": [
       "'100% Cotton'"
      ]
     },
     "execution_count": 63,
     "metadata": {},
     "output_type": "execute_result"
    }
   ],
   "source": [
    "processed_material=material.strip()[14:25]\n",
    "processed_material"
   ]
  },
  {
   "cell_type": "code",
   "execution_count": 64,
   "id": "b0403114",
   "metadata": {},
   "outputs": [
    {
     "name": "stdout",
     "output_type": "stream",
     "text": [
      "Got Data Funny Business Data Analyst T-Shirt\n"
     ]
    }
   ],
   "source": [
    "title = title.strip()\n",
    "print(title)"
   ]
  },
  {
   "cell_type": "code",
   "execution_count": 65,
   "id": "2faf3537",
   "metadata": {},
   "outputs": [
    {
     "name": "stdout",
     "output_type": "stream",
     "text": [
      "Got Data Funny Business Data Analyst T-Shirt\n",
      "100% Cotton\n"
     ]
    }
   ],
   "source": [
    "title=title.strip()\n",
    "processed_material=processed_material.strip()\n",
    "\n",
    "print(title)\n",
    "print(processed_material)"
   ]
  },
  {
   "cell_type": "code",
   "execution_count": 66,
   "id": "1647439c",
   "metadata": {},
   "outputs": [
    {
     "name": "stdout",
     "output_type": "stream",
     "text": [
      "2025-06-12\n"
     ]
    }
   ],
   "source": [
    "import datetime\n",
    "today = datetime.date.today()\n",
    "print(today)"
   ]
  },
  {
   "cell_type": "code",
   "execution_count": 67,
   "id": "743a1ca3",
   "metadata": {},
   "outputs": [],
   "source": [
    "import csv\n",
    "header = ['Title','Material','Date']\n",
    "data = [title,processed_material,today]\n",
    "\n",
    "with open('amazon_web_scarping_Finaldatase.csv', 'w', newline='',encoding='UTF8') as f:\n",
    "    writer = csv.writer(f)\n",
    "    writer.writerow(header)\n",
    "    writer.writerow(data)"
   ]
  },
  {
   "cell_type": "code",
   "execution_count": 68,
   "id": "c2d621a3",
   "metadata": {},
   "outputs": [
    {
     "name": "stdout",
     "output_type": "stream",
     "text": [
      "                                          Title     Material        Date\n",
      "0  Got Data Funny Business Data Analyst T-Shirt  100% Cotton  2025-06-12\n"
     ]
    }
   ],
   "source": [
    "import pandas as pd\n",
    "df = pd.read_csv(r\"D:\\Pandas (Jupyter)\\amazon_web_scarping_Finaldatase.csv\")\n",
    "print(df)"
   ]
  },
  {
   "cell_type": "code",
   "execution_count": 69,
   "id": "be8ba443",
   "metadata": {},
   "outputs": [
    {
     "data": {
      "text/html": [
       "<div>\n",
       "<style scoped>\n",
       "    .dataframe tbody tr th:only-of-type {\n",
       "        vertical-align: middle;\n",
       "    }\n",
       "\n",
       "    .dataframe tbody tr th {\n",
       "        vertical-align: top;\n",
       "    }\n",
       "\n",
       "    .dataframe thead th {\n",
       "        text-align: right;\n",
       "    }\n",
       "</style>\n",
       "<table border=\"1\" class=\"dataframe\">\n",
       "  <thead>\n",
       "    <tr style=\"text-align: right;\">\n",
       "      <th></th>\n",
       "      <th>Title</th>\n",
       "      <th>Material</th>\n",
       "      <th>Date</th>\n",
       "    </tr>\n",
       "  </thead>\n",
       "  <tbody>\n",
       "    <tr>\n",
       "      <th>0</th>\n",
       "      <td>Got Data Funny Business Data Analyst T-Shirt</td>\n",
       "      <td>100% Cotton</td>\n",
       "      <td>2025-06-12</td>\n",
       "    </tr>\n",
       "  </tbody>\n",
       "</table>\n",
       "</div>"
      ],
      "text/plain": [
       "                                          Title     Material        Date\n",
       "0  Got Data Funny Business Data Analyst T-Shirt  100% Cotton  2025-06-12"
      ]
     },
     "execution_count": 69,
     "metadata": {},
     "output_type": "execute_result"
    }
   ],
   "source": [
    "import pandas as pd\n",
    "df=pd.read_csv(r\"D:\\Pandas (Jupyter)\\amazon_web_scarping_Finaldatase.csv\")\n",
    "df"
   ]
  },
  {
   "cell_type": "code",
   "execution_count": 70,
   "id": "dfcf055e",
   "metadata": {},
   "outputs": [],
   "source": [
    "#appending data\n",
    "\n",
    "with open('amazon_web_scarping_Finaldatase.csv', 'a+', newline='',encoding='UTF8') as f:\n",
    "    writer = csv.writer(f)\n",
    "    writer.writerow(data)"
   ]
  },
  {
   "cell_type": "code",
   "execution_count": 71,
   "id": "7a19c08b",
   "metadata": {},
   "outputs": [],
   "source": [
    "def check_price():\n",
    "    with open(r\"D:\\Pandas (Jupyter)\\Amazon_Web_Scraping\\amazon_tshirt.html\", encoding='utf-8') as file:\n",
    "        html_code = file.read()\n",
    "    \n",
    "    soup1 =  BeautifulSoup(html_code, \"html.parser\")\n",
    "\n",
    "    soup2 = BeautifulSoup(soup1.prettify(),\"html.parser\")\n",
    "\n",
    "    title = soup2.find(id='productTitle').get_text()\n",
    "    \n",
    "    material = soup2.find_all(\"span\", class_=\"a-color-base\")[2].get_text() #Too many same name so printing something different\n",
    "    material_exact = soup2.find_all(\"span\", class_=\"a-color-base\")\n",
    "    material = next(main.get_text(strip=True)\n",
    "            for main in material_exact \n",
    "            if \"Solid colors:\" in main.get_text())\n",
    "    processed_material=material.strip()[14:25]\n",
    "    \n",
    "    title=title.strip()\n",
    "    processed_material=processed_material.strip()\n",
    "    \n",
    "    import datetime\n",
    "    today = datetime.date.today()\n",
    "    \n",
    "    import csv\n",
    "    header = ['Title','Material','Date']\n",
    "    data = [title,processed_material,today]\n",
    "    \n",
    "    with open('amazon_web_scarping_Finaldatase.csv', 'a+', newline='',encoding='UTF8') as f:\n",
    "        writer = csv.writer(f)\n",
    "        writer.writerow(data)\n",
    "        \n",
    "    #if(processed_material != 100% Cotton):"
   ]
  },
  {
   "cell_type": "code",
   "execution_count": null,
   "id": "8ad5c145",
   "metadata": {},
   "outputs": [],
   "source": [
    "import time\n",
    "\n",
    "for _ in range(5):\n",
    "    check_price()\n",
    "    time.sleep(5)  #use 86400 for 24 hours"
   ]
  },
  {
   "cell_type": "code",
   "execution_count": 73,
   "id": "14627844",
   "metadata": {},
   "outputs": [
    {
     "data": {
      "text/html": [
       "<div>\n",
       "<style scoped>\n",
       "    .dataframe tbody tr th:only-of-type {\n",
       "        vertical-align: middle;\n",
       "    }\n",
       "\n",
       "    .dataframe tbody tr th {\n",
       "        vertical-align: top;\n",
       "    }\n",
       "\n",
       "    .dataframe thead th {\n",
       "        text-align: right;\n",
       "    }\n",
       "</style>\n",
       "<table border=\"1\" class=\"dataframe\">\n",
       "  <thead>\n",
       "    <tr style=\"text-align: right;\">\n",
       "      <th></th>\n",
       "      <th>Title</th>\n",
       "      <th>Material</th>\n",
       "      <th>Date</th>\n",
       "    </tr>\n",
       "  </thead>\n",
       "  <tbody>\n",
       "    <tr>\n",
       "      <th>0</th>\n",
       "      <td>Got Data Funny Business Data Analyst T-Shirt</td>\n",
       "      <td>100% Cotton</td>\n",
       "      <td>2025-06-12</td>\n",
       "    </tr>\n",
       "    <tr>\n",
       "      <th>1</th>\n",
       "      <td>Got Data Funny Business Data Analyst T-Shirt</td>\n",
       "      <td>100% Cotton</td>\n",
       "      <td>2025-06-12</td>\n",
       "    </tr>\n",
       "    <tr>\n",
       "      <th>2</th>\n",
       "      <td>Got Data Funny Business Data Analyst T-Shirt</td>\n",
       "      <td>100% Cotton</td>\n",
       "      <td>2025-06-12</td>\n",
       "    </tr>\n",
       "    <tr>\n",
       "      <th>3</th>\n",
       "      <td>Got Data Funny Business Data Analyst T-Shirt</td>\n",
       "      <td>100% Cotton</td>\n",
       "      <td>2025-06-12</td>\n",
       "    </tr>\n",
       "    <tr>\n",
       "      <th>4</th>\n",
       "      <td>Got Data Funny Business Data Analyst T-Shirt</td>\n",
       "      <td>100% Cotton</td>\n",
       "      <td>2025-06-12</td>\n",
       "    </tr>\n",
       "    <tr>\n",
       "      <th>5</th>\n",
       "      <td>Got Data Funny Business Data Analyst T-Shirt</td>\n",
       "      <td>100% Cotton</td>\n",
       "      <td>2025-06-12</td>\n",
       "    </tr>\n",
       "    <tr>\n",
       "      <th>6</th>\n",
       "      <td>Got Data Funny Business Data Analyst T-Shirt</td>\n",
       "      <td>100% Cotton</td>\n",
       "      <td>2025-06-12</td>\n",
       "    </tr>\n",
       "  </tbody>\n",
       "</table>\n",
       "</div>"
      ],
      "text/plain": [
       "                                          Title     Material        Date\n",
       "0  Got Data Funny Business Data Analyst T-Shirt  100% Cotton  2025-06-12\n",
       "1  Got Data Funny Business Data Analyst T-Shirt  100% Cotton  2025-06-12\n",
       "2  Got Data Funny Business Data Analyst T-Shirt  100% Cotton  2025-06-12\n",
       "3  Got Data Funny Business Data Analyst T-Shirt  100% Cotton  2025-06-12\n",
       "4  Got Data Funny Business Data Analyst T-Shirt  100% Cotton  2025-06-12\n",
       "5  Got Data Funny Business Data Analyst T-Shirt  100% Cotton  2025-06-12\n",
       "6  Got Data Funny Business Data Analyst T-Shirt  100% Cotton  2025-06-12"
      ]
     },
     "execution_count": 73,
     "metadata": {},
     "output_type": "execute_result"
    }
   ],
   "source": [
    "import pandas as pd\n",
    "df=pd.read_csv(r\"D:\\Pandas (Jupyter)\\amazon_web_scarping_Finaldatase.csv\")\n",
    "df"
   ]
  },
  {
   "cell_type": "code",
   "execution_count": null,
   "id": "0eb8da22",
   "metadata": {},
   "outputs": [],
   "source": []
  }
 ],
 "metadata": {
  "kernelspec": {
   "display_name": "Python 3",
   "language": "python",
   "name": "python3"
  },
  "language_info": {
   "codemirror_mode": {
    "name": "ipython",
    "version": 3
   },
   "file_extension": ".py",
   "mimetype": "text/x-python",
   "name": "python",
   "nbconvert_exporter": "python",
   "pygments_lexer": "ipython3",
   "version": "3.12.3"
  }
 },
 "nbformat": 4,
 "nbformat_minor": 5
}
